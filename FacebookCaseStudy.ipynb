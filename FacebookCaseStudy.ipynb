{
  "nbformat": 4,
  "nbformat_minor": 0,
  "metadata": {
    "colab": {
      "name": "FacebookCaseStudy.ipynb",
      "provenance": [],
      "collapsed_sections": [],
      "authorship_tag": "ABX9TyOQJppaJXzpIOi5+kchOaTi",
      "include_colab_link": true
    },
    "kernelspec": {
      "name": "python3",
      "display_name": "Python 3"
    }
  },
  "cells": [
    {
      "cell_type": "markdown",
      "metadata": {
        "id": "view-in-github",
        "colab_type": "text"
      },
      "source": [
        "<a href=\"https://colab.research.google.com/github/prithvikannan/facebook-business/blob/master/FacebookCaseStudy.ipynb\" target=\"_parent\"><img src=\"https://colab.research.google.com/assets/colab-badge.svg\" alt=\"Open In Colab\"/></a>"
      ]
    },
    {
      "cell_type": "markdown",
      "metadata": {
        "id": "J7sO3vG0c01c",
        "colab_type": "text"
      },
      "source": [
        "# 0. Imports"
      ]
    },
    {
      "cell_type": "markdown",
      "metadata": {
        "id": "-Klkg87ucai_",
        "colab_type": "text"
      },
      "source": [
        "Relevant imports of Selenium, ChromeDriver, JSON, Regex, Time, Pandas, etc."
      ]
    },
    {
      "cell_type": "code",
      "metadata": {
        "id": "s7wVQ_Dhc9lu",
        "colab_type": "code",
        "outputId": "54e20ba0-5ad4-4ad7-8692-76626a64b20d",
        "colab": {
          "base_uri": "https://localhost:8080/",
          "height": 386
        }
      },
      "source": [
        "!apt update\n",
        "!apt install chromium-chromedriver\n",
        "!pip install selenium"
      ],
      "execution_count": 1,
      "outputs": [
        {
          "output_type": "stream",
          "text": [
            "Hit:1 https://cloud.r-project.org/bin/linux/ubuntu bionic-cran35/ InRelease\n",
            "Hit:2 http://ppa.launchpad.net/graphics-drivers/ppa/ubuntu bionic InRelease\n",
            "Hit:3 http://security.ubuntu.com/ubuntu bionic-security InRelease\n",
            "Ign:4 https://developer.download.nvidia.com/compute/cuda/repos/ubuntu1804/x86_64  InRelease\n",
            "Ign:5 https://developer.download.nvidia.com/compute/machine-learning/repos/ubuntu1804/x86_64  InRelease\n",
            "Hit:6 http://archive.ubuntu.com/ubuntu bionic InRelease\n",
            "Hit:7 https://developer.download.nvidia.com/compute/cuda/repos/ubuntu1804/x86_64  Release\n",
            "Hit:8 https://developer.download.nvidia.com/compute/machine-learning/repos/ubuntu1804/x86_64  Release\n",
            "Hit:9 http://ppa.launchpad.net/marutter/c2d4u3.5/ubuntu bionic InRelease\n",
            "Hit:10 http://archive.ubuntu.com/ubuntu bionic-updates InRelease\n",
            "Hit:12 http://archive.ubuntu.com/ubuntu bionic-backports InRelease\n",
            "Reading package lists... Done\n",
            "Building dependency tree       \n",
            "Reading state information... Done\n",
            "42 packages can be upgraded. Run 'apt list --upgradable' to see them.\n",
            "Reading package lists... Done\n",
            "Building dependency tree       \n",
            "Reading state information... Done\n",
            "chromium-chromedriver is already the newest version (81.0.4044.138-0ubuntu0.18.04.1).\n",
            "0 upgraded, 0 newly installed, 0 to remove and 42 not upgraded.\n",
            "Requirement already satisfied: selenium in /usr/local/lib/python3.6/dist-packages (3.141.0)\n",
            "Requirement already satisfied: urllib3 in /usr/local/lib/python3.6/dist-packages (from selenium) (1.24.3)\n"
          ],
          "name": "stdout"
        }
      ]
    },
    {
      "cell_type": "code",
      "metadata": {
        "id": "ZgiudrEncXXP",
        "colab_type": "code",
        "colab": {}
      },
      "source": [
        "import json\n",
        "import re\n",
        "from selenium import webdriver\n",
        "from selenium.common.exceptions import NoSuchElementException   \n",
        "from collections import OrderedDict \n",
        "import time\n",
        "import pandas as pd"
      ],
      "execution_count": 0,
      "outputs": []
    },
    {
      "cell_type": "code",
      "metadata": {
        "id": "BGuCGf1BcY0X",
        "colab_type": "code",
        "colab": {}
      },
      "source": [
        "# set options to be headless, ..\n",
        "options = webdriver.ChromeOptions()\n",
        "options.add_argument('--headless')\n",
        "options.add_argument('--no-sandbox')\n",
        "options.add_argument('--disable-dev-shm-usage')\n",
        "# open it, go to a website, and get results\n",
        "wd = webdriver.Chrome('chromedriver',options=options)"
      ],
      "execution_count": 0,
      "outputs": []
    },
    {
      "cell_type": "markdown",
      "metadata": {
        "id": "FNMUPjh_c5QB",
        "colab_type": "text"
      },
      "source": [
        "# 1. Functions"
      ]
    },
    {
      "cell_type": "markdown",
      "metadata": {
        "id": "a6ELRrfzb1Wn",
        "colab_type": "text"
      },
      "source": [
        "Starting with the base url, `getAllCategories()` searches through the dropdown menus to find sublinks relevant to categories of small businesses, and returns a dictionary of `{category, link}` pairs. "
      ]
    },
    {
      "cell_type": "code",
      "metadata": {
        "id": "PqF9WFkf5CqH",
        "colab_type": "code",
        "colab": {}
      },
      "source": [
        "def getAllCategories():\n",
        "    # queries the base small business link\n",
        "    wd.get(\"https://www.facebook.com/business/success?categories[0]=small-business\")\n",
        "\n",
        "    # looks through categories with href containing \"small business\"\n",
        "    all_categories = {}\n",
        "    elems = wd.find_elements_by_xpath(\"//a[contains(@href, '/business/success/?categories%5B0%5D=small-business&categories%5B1%5D')]\")\n",
        "    for elem in elems:\n",
        "        link = elem.get_attribute(\"href\")\n",
        "        if link not in all_categories:\n",
        "            # parse out category name using regex\n",
        "            name = re.search('[^=]+$', link).group()\n",
        "            all_categories[name] = link\n",
        "    \n",
        "    # return a dictionary of {category, link} pairs\n",
        "    return all_categories"
      ],
      "execution_count": 0,
      "outputs": []
    },
    {
      "cell_type": "markdown",
      "metadata": {
        "id": "MnhGoqVBbW1b",
        "colab_type": "text"
      },
      "source": [
        "For a given category url input, `getCompaniesFromCategory()` will expand the category's contents and find all companies within the category. \n",
        "\n",
        "By default, it will also analyze those companies, but that can be turned off by setting `recursive=False`\n",
        "\n",
        "By setting `silent=False`, it will also log to console.\n",
        "\n"
      ]
    },
    {
      "cell_type": "code",
      "metadata": {
        "id": "u4ME4jIou5wE",
        "colab_type": "code",
        "colab": {}
      },
      "source": [
        "def getCompaniesFromCategory(url, recursive=True, silent=True):\n",
        "    wd.get(url)\n",
        "\n",
        "    # clicks the load more button at the bottom\n",
        "    while True:\n",
        "        try:\n",
        "            loadMoreButton = wd.find_element_by_xpath(\"//a[contains(@class, '_3cr5 _5j3- _53m5 _7p5k _1s6a _quh _88-d')]\")\n",
        "            time.sleep(2)\n",
        "            loadMoreButton.click()\n",
        "            time.sleep(5)\n",
        "            if not silent:\n",
        "                print('clicked')\n",
        "        except Exception as e:\n",
        "            if not silent:\n",
        "                print (e)\n",
        "            break\n",
        "\n",
        "    # populates an array of links for the category\n",
        "    all_links = []\n",
        "    elems = wd.find_elements_by_xpath(\"//a[contains(@class, '_3cr5 _8p_9 _53m5 _8xo6 _8xo4 _1s6c _93rg _8p_b')]\")\n",
        "    for elem in elems:\n",
        "        if elem.get_attribute(\"href\") not in all_links:\n",
        "            all_links.append(elem.get_attribute(\"href\"))\n",
        "\n",
        "    # by default, recursively gets info for each link\n",
        "    if recursive:\n",
        "        all_resp = []\n",
        "        for link in all_links:\n",
        "            all_resp.append(getInfoForLink(link))\n",
        "        return all_resp\n",
        "\n",
        "    # otherwise, just returns the links\n",
        "    else:\n",
        "        return all_links"
      ],
      "execution_count": 0,
      "outputs": []
    },
    {
      "cell_type": "markdown",
      "metadata": {
        "id": "8RA_VmPITYtn",
        "colab_type": "text"
      },
      "source": [
        "`getInfoForLink` is a function which will get the page source for a given url and output a dictionary containing the name, goal, solution, and result.\n",
        "\n",
        "By setting `silent=False`, it will also log to console."
      ]
    },
    {
      "cell_type": "code",
      "metadata": {
        "id": "kgDxjrBvSZLp",
        "colab_type": "code",
        "colab": {}
      },
      "source": [
        "def getInfoForLink(url, silent=True):\n",
        "    wd.get(url)\n",
        "\n",
        "    # looks for client name, defaults to \"[can't find]\"\n",
        "    try:\n",
        "        name = wd.find_element_by_xpath(\"//h1\").text\n",
        "    except NoSuchElementException:\n",
        "        name = \"[can't find]\"\n",
        "\n",
        "    # looks for client goal, defaults to \"[can't find]\"\n",
        "    try:\n",
        "        goal = wd.find_element_by_class_name('_5yvq').text\n",
        "    except NoSuchElementException:\n",
        "        goal = \"[can't find]\"\n",
        "\n",
        "    # looks for client solutions, defaults to \"[can't find]\"\n",
        "    try:\n",
        "        solution = \"\"\n",
        "        for element in wd.find_elements_by_class_name(\"_4971\"):\n",
        "            solution += element.text\n",
        "        if (solution == \"\"):\n",
        "            solution = \"[can't find]\"\n",
        "    except NoSuchElementException:\n",
        "        solution = \"[can't find]\"\n",
        "\n",
        "    # looks for client results, defaults to \"[can't find]\"\n",
        "    try:\n",
        "        results = wd.find_element_by_class_name('_8grt').text\n",
        "    except NoSuchElementException:\n",
        "        results = \"[can't find]\"\n",
        "    \n",
        "    # prints if requested\n",
        "    if not silent:\n",
        "        print(\"NAME: \", name)\n",
        "        print(\"GOAL: \", goal)\n",
        "        print(\"SOLUTION: \", solution)\n",
        "        print(\"RESULTS: \", results)\n",
        "\n",
        "    # returns dictionary containing all data for the client\n",
        "    return {\n",
        "        \"name\": name,\n",
        "        \"goal\": goal, \n",
        "        \"solution\": solution, \n",
        "        \"results\": results, \n",
        "        \"link\": url\n",
        "    }"
      ],
      "execution_count": 0,
      "outputs": []
    },
    {
      "cell_type": "markdown",
      "metadata": {
        "id": "dE_5rgaCc-Z5",
        "colab_type": "text"
      },
      "source": [
        "# 2. Usage"
      ]
    },
    {
      "cell_type": "markdown",
      "metadata": {
        "id": "kk-SPBTnbERM",
        "colab_type": "text"
      },
      "source": [
        "Using `getAllCategories()`, create a subset called `industry_categories`. \n",
        "\n",
        "Also made a small subset called `test_categories` for debugging purposes."
      ]
    },
    {
      "cell_type": "code",
      "metadata": {
        "id": "Qxmbtx2ARy3N",
        "colab_type": "code",
        "colab": {}
      },
      "source": [
        "# all_categories = getAllCategories()\n",
        "industry_categories = {\"automotive\": \"https://www.facebook.com/business/success/?categories%5B0%5D=small-business&categories%5B1%5D=automotive\",\n",
        "    \"b2b\": \"https://www.facebook.com/business/success/?categories%5B0%5D=small-business&categories%5B1%5D=b2b\",\n",
        "    \"consumer-goods\": \"https://www.facebook.com/business/success/?categories%5B0%5D=small-business&categories%5B1%5D=consumer-goods\",\n",
        "    \"ecommerce\": \"https://www.facebook.com/business/success/?categories%5B0%5D=small-business&categories%5B1%5D=ecommerce\",\n",
        "    \"education\": \"https://www.facebook.com/business/success/?categories%5B0%5D=small-business&categories%5B1%5D=education\",\n",
        "    \"entertainment-media\": \"https://www.facebook.com/business/success/?categories%5B0%5D=small-business&categories%5B1%5D=entertainment-media\",\n",
        "    \"financial-services\": \"https://www.facebook.com/business/success/?categories%5B0%5D=small-business&categories%5B1%5D=financial-services\",\n",
        "    \"gaming\": \"https://www.facebook.com/business/success/?categories%5B0%5D=small-business&categories%5B1%5D=gaming\",\n",
        "    \"health-pharmaceuticals\": \"https://www.facebook.com/business/success/?categories%5B0%5D=small-business&categories%5B1%5D=health-pharmaceuticals\",\n",
        "    \"non-profits-organizations\": \"https://www.facebook.com/business/success/?categories%5B0%5D=small-business&categories%5B1%5D=non-profits-organizations\",\n",
        "    \"professional-services\": \"https://www.facebook.com/business/success/?categories%5B0%5D=small-business&categories%5B1%5D=professional-services\",\n",
        "    \"real-estate\": \"https://www.facebook.com/business/success/?categories%5B0%5D=small-business&categories%5B1%5D=real-estate\",\n",
        "    \"restaurant\": \"https://www.facebook.com/business/success/?categories%5B0%5D=small-business&categories%5B1%5D=restaurant\",\n",
        "    \"retail\": \"https://www.facebook.com/business/success/?categories%5B0%5D=small-business&categories%5B1%5D=retail\",\n",
        "    \"sports\": \"https://www.facebook.com/business/success/?categories%5B0%5D=small-business&categories%5B1%5D=sports\",\n",
        "    \"technology\": \"https://www.facebook.com/business/success/?categories%5B0%5D=small-business&categories%5B1%5D=technology\",\n",
        "    \"telecommunication\": \"https://www.facebook.com/business/success/?categories%5B0%5D=small-business&categories%5B1%5D=telecommunication\",\n",
        "    \"travel\": \"https://www.facebook.com/business/success/?categories%5B0%5D=small-business&categories%5B1%5D=travel\"}\n",
        "\n",
        "test_categories = {'automotive': 'https://www.facebook.com/business/success/?categories%5B0%5D=small-business&categories%5B1%5D=automotive',\n",
        "    'b2b': 'https://www.facebook.com/business/success/?categories%5B0%5D=small-business&categories%5B1%5D=b2b'}"
      ],
      "execution_count": 0,
      "outputs": []
    },
    {
      "cell_type": "code",
      "metadata": {
        "id": "naXj373nR-9W",
        "colab_type": "code",
        "outputId": "b75fb70c-d1bb-4235-a8ad-4456030997b3",
        "colab": {
          "base_uri": "https://localhost:8080/",
          "height": 642
        }
      },
      "source": [
        "everything = {}\n",
        "for category in industry_categories:\n",
        "    link = industry_categories[category]\n",
        "    print(category)\n",
        "    print(link)\n",
        "    everything[category]= getCompaniesFromCategory(link)"
      ],
      "execution_count": 8,
      "outputs": [
        {
          "output_type": "stream",
          "text": [
            "automotive\n",
            "https://www.facebook.com/business/success/?categories%5B0%5D=small-business&categories%5B1%5D=automotive\n",
            "b2b\n",
            "https://www.facebook.com/business/success/?categories%5B0%5D=small-business&categories%5B1%5D=b2b\n",
            "consumer-goods\n",
            "https://www.facebook.com/business/success/?categories%5B0%5D=small-business&categories%5B1%5D=consumer-goods\n",
            "ecommerce\n",
            "https://www.facebook.com/business/success/?categories%5B0%5D=small-business&categories%5B1%5D=ecommerce\n",
            "education\n",
            "https://www.facebook.com/business/success/?categories%5B0%5D=small-business&categories%5B1%5D=education\n",
            "entertainment-media\n",
            "https://www.facebook.com/business/success/?categories%5B0%5D=small-business&categories%5B1%5D=entertainment-media\n",
            "financial-services\n",
            "https://www.facebook.com/business/success/?categories%5B0%5D=small-business&categories%5B1%5D=financial-services\n",
            "gaming\n",
            "https://www.facebook.com/business/success/?categories%5B0%5D=small-business&categories%5B1%5D=gaming\n",
            "health-pharmaceuticals\n",
            "https://www.facebook.com/business/success/?categories%5B0%5D=small-business&categories%5B1%5D=health-pharmaceuticals\n",
            "non-profits-organizations\n",
            "https://www.facebook.com/business/success/?categories%5B0%5D=small-business&categories%5B1%5D=non-profits-organizations\n",
            "professional-services\n",
            "https://www.facebook.com/business/success/?categories%5B0%5D=small-business&categories%5B1%5D=professional-services\n",
            "real-estate\n",
            "https://www.facebook.com/business/success/?categories%5B0%5D=small-business&categories%5B1%5D=real-estate\n",
            "restaurant\n",
            "https://www.facebook.com/business/success/?categories%5B0%5D=small-business&categories%5B1%5D=restaurant\n",
            "retail\n",
            "https://www.facebook.com/business/success/?categories%5B0%5D=small-business&categories%5B1%5D=retail\n",
            "sports\n",
            "https://www.facebook.com/business/success/?categories%5B0%5D=small-business&categories%5B1%5D=sports\n",
            "technology\n",
            "https://www.facebook.com/business/success/?categories%5B0%5D=small-business&categories%5B1%5D=technology\n",
            "telecommunication\n",
            "https://www.facebook.com/business/success/?categories%5B0%5D=small-business&categories%5B1%5D=telecommunication\n",
            "travel\n",
            "https://www.facebook.com/business/success/?categories%5B0%5D=small-business&categories%5B1%5D=travel\n"
          ],
          "name": "stdout"
        }
      ]
    },
    {
      "cell_type": "markdown",
      "metadata": {
        "id": "ePRsfi1zdFvy",
        "colab_type": "text"
      },
      "source": [
        "# 3. Data Analysis"
      ]
    },
    {
      "cell_type": "code",
      "metadata": {
        "id": "pzdTQl9UB1mo",
        "colab_type": "code",
        "colab": {}
      },
      "source": [
        "print(json.dumps(everything, indent=4))"
      ],
      "execution_count": 0,
      "outputs": []
    },
    {
      "cell_type": "code",
      "metadata": {
        "id": "NLq98Ga1nSov",
        "colab_type": "code",
        "colab": {}
      },
      "source": [
        "with open('result.json', 'w') as fp:\n",
        "    json.dump(everything, fp)"
      ],
      "execution_count": 0,
      "outputs": []
    },
    {
      "cell_type": "code",
      "metadata": {
        "id": "porTkPEPWS1a",
        "colab_type": "code",
        "colab": {
          "base_uri": "https://localhost:8080/",
          "height": 822
        },
        "outputId": "d58e95e6-ac8b-48e3-f1df-4553dcdfae81"
      },
      "source": [
        "pd.json_normalize(everything['ecommerce'])"
      ],
      "execution_count": 11,
      "outputs": [
        {
          "output_type": "execute_result",
          "data": {
            "text/html": [
              "<div>\n",
              "<style scoped>\n",
              "    .dataframe tbody tr th:only-of-type {\n",
              "        vertical-align: middle;\n",
              "    }\n",
              "\n",
              "    .dataframe tbody tr th {\n",
              "        vertical-align: top;\n",
              "    }\n",
              "\n",
              "    .dataframe thead th {\n",
              "        text-align: right;\n",
              "    }\n",
              "</style>\n",
              "<table border=\"1\" class=\"dataframe\">\n",
              "  <thead>\n",
              "    <tr style=\"text-align: right;\">\n",
              "      <th></th>\n",
              "      <th>name</th>\n",
              "      <th>goal</th>\n",
              "      <th>solution</th>\n",
              "      <th>results</th>\n",
              "      <th>link</th>\n",
              "    </tr>\n",
              "  </thead>\n",
              "  <tbody>\n",
              "    <tr>\n",
              "      <th>0</th>\n",
              "      <td>Unit 1</td>\n",
              "      <td>This wearable tech company earned 4,700 leads ...</td>\n",
              "      <td>Unit 1 worked with Facebook Marketing Partner ...</td>\n",
              "      <td>4,700 leads in 14 days\\n2X return on ad spend\\...</td>\n",
              "      <td>https://www.facebook.com/business/redirect/per...</td>\n",
              "    </tr>\n",
              "    <tr>\n",
              "      <th>1</th>\n",
              "      <td>The Hair Bow Company</td>\n",
              "      <td>This apparel and accessories online retailer l...</td>\n",
              "      <td>When The Hair Bow Company was looking for new ...</td>\n",
              "      <td>15% average increase in revenue attributable t...</td>\n",
              "      <td>https://www.facebook.com/business/redirect/per...</td>\n",
              "    </tr>\n",
              "    <tr>\n",
              "      <th>2</th>\n",
              "      <td>Hammitt</td>\n",
              "      <td>The luxury accessories brand used Facebook dyn...</td>\n",
              "      <td>Hammitt partnered with marketing agency MuteSi...</td>\n",
              "      <td>Core audiences were selected based on gender, ...</td>\n",
              "      <td>https://www.facebook.com/business/redirect/per...</td>\n",
              "    </tr>\n",
              "    <tr>\n",
              "      <th>3</th>\n",
              "      <td>Bombas</td>\n",
              "      <td>The ecommerce sock company launched a unique P...</td>\n",
              "      <td>Bombas has increased its success with Facebook...</td>\n",
              "      <td>33% lift in conversions over business-as-usual...</td>\n",
              "      <td>https://www.facebook.com/business/redirect/per...</td>\n",
              "    </tr>\n",
              "    <tr>\n",
              "      <th>4</th>\n",
              "      <td>Perpetual Kid</td>\n",
              "      <td>The unique gifts online retailer listed its pr...</td>\n",
              "      <td>When Perpetual Kid learned about Facebook Mark...</td>\n",
              "      <td>21% average increase in revenue attributable t...</td>\n",
              "      <td>https://www.facebook.com/business/redirect/per...</td>\n",
              "    </tr>\n",
              "    <tr>\n",
              "      <th>...</th>\n",
              "      <td>...</td>\n",
              "      <td>...</td>\n",
              "      <td>...</td>\n",
              "      <td>...</td>\n",
              "      <td>...</td>\n",
              "    </tr>\n",
              "    <tr>\n",
              "      <th>186</th>\n",
              "      <td>ReSnap</td>\n",
              "      <td>The smart technology-based photobook company s...</td>\n",
              "      <td>ReSnap’s strategy focused on getting people ex...</td>\n",
              "      <td>1,963X increase in turnover between September ...</td>\n",
              "      <td>https://www.facebook.com/business/success/2-re...</td>\n",
              "    </tr>\n",
              "    <tr>\n",
              "      <th>187</th>\n",
              "      <td>Boux Avenue</td>\n",
              "      <td>This premier lingerie brand used striking Face...</td>\n",
              "      <td>With guidance from agency Tomorrow TTH, Boux A...</td>\n",
              "      <td>11.7X return on ad spend\\n53% lower cost per a...</td>\n",
              "      <td>https://www.facebook.com/business/success/boux...</td>\n",
              "    </tr>\n",
              "    <tr>\n",
              "      <th>188</th>\n",
              "      <td>BYIC</td>\n",
              "      <td>This online women’s fashion store used dynamic...</td>\n",
              "      <td>Facebook has long been BYIC’s number one chann...</td>\n",
              "      <td>3.59X increase in revenue\\n2.1X increase in ov...</td>\n",
              "      <td>https://www.facebook.com/business/success/byic</td>\n",
              "    </tr>\n",
              "    <tr>\n",
              "      <th>189</th>\n",
              "      <td>Perkbox</td>\n",
              "      <td>This employee rewards and engagement platform ...</td>\n",
              "      <td>As a fast growing company with a rapidly expan...</td>\n",
              "      <td>1.5% click-through rate\\n9.3 million people re...</td>\n",
              "      <td>https://www.facebook.com/business/success/perkbox</td>\n",
              "    </tr>\n",
              "    <tr>\n",
              "      <th>190</th>\n",
              "      <td>Citrus</td>\n",
              "      <td>The Ukrainian gadget specialists put video ads...</td>\n",
              "      <td>Working in tandem with agency Promodo, Citrus ...</td>\n",
              "      <td>2.9X increase in campaign reach compared to pr...</td>\n",
              "      <td>https://www.facebook.com/business/success/citrus</td>\n",
              "    </tr>\n",
              "  </tbody>\n",
              "</table>\n",
              "<p>191 rows × 5 columns</p>\n",
              "</div>"
            ],
            "text/plain": [
              "                     name  ...                                               link\n",
              "0                  Unit 1  ...  https://www.facebook.com/business/redirect/per...\n",
              "1    The Hair Bow Company  ...  https://www.facebook.com/business/redirect/per...\n",
              "2                 Hammitt  ...  https://www.facebook.com/business/redirect/per...\n",
              "3                  Bombas  ...  https://www.facebook.com/business/redirect/per...\n",
              "4           Perpetual Kid  ...  https://www.facebook.com/business/redirect/per...\n",
              "..                    ...  ...                                                ...\n",
              "186                ReSnap  ...  https://www.facebook.com/business/success/2-re...\n",
              "187           Boux Avenue  ...  https://www.facebook.com/business/success/boux...\n",
              "188                  BYIC  ...     https://www.facebook.com/business/success/byic\n",
              "189               Perkbox  ...  https://www.facebook.com/business/success/perkbox\n",
              "190                Citrus  ...   https://www.facebook.com/business/success/citrus\n",
              "\n",
              "[191 rows x 5 columns]"
            ]
          },
          "metadata": {
            "tags": []
          },
          "execution_count": 11
        }
      ]
    },
    {
      "cell_type": "code",
      "metadata": {
        "id": "14rjcVpNXCmC",
        "colab_type": "code",
        "colab": {}
      },
      "source": [
        ""
      ],
      "execution_count": 0,
      "outputs": []
    }
  ]
}